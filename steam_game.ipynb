{
 "cells": [
  {
   "cell_type": "code",
   "execution_count": 1,
   "id": "08b3d7fa-89ae-4cac-aae8-85ec98f78272",
   "metadata": {},
   "outputs": [],
   "source": [
    "import pandas as pd"
   ]
  },
  {
   "cell_type": "code",
   "execution_count": 2,
   "id": "10df346a-3fd2-440b-9c2d-f38b13a0999c",
   "metadata": {},
   "outputs": [
    {
     "name": "stdout",
     "output_type": "stream",
     "text": [
      "<class 'pandas.core.frame.DataFrame'>\n",
      "RangeIndex: 71716 entries, 0 to 71715\n",
      "Data columns (total 39 columns):\n",
      " #   Column                      Non-Null Count  Dtype  \n",
      "---  ------                      --------------  -----  \n",
      " 0   AppID                       71716 non-null  int64  \n",
      " 1   Name                        71715 non-null  object \n",
      " 2   Release date                71716 non-null  object \n",
      " 3   Estimated owners            71716 non-null  object \n",
      " 4   Peak CCU                    71716 non-null  int64  \n",
      " 5   Required age                71716 non-null  int64  \n",
      " 6   Price                       71716 non-null  float64\n",
      " 7   DLC count                   71716 non-null  int64  \n",
      " 8   About the game              69280 non-null  object \n",
      " 9   Supported languages         71716 non-null  object \n",
      " 10  Full audio languages        71716 non-null  object \n",
      " 11  Reviews                     9167 non-null   object \n",
      " 12  Header image                71716 non-null  object \n",
      " 13  Website                     35073 non-null  object \n",
      " 14  Support url                 36250 non-null  object \n",
      " 15  Support email               60596 non-null  object \n",
      " 16  Windows                     71716 non-null  bool   \n",
      " 17  Mac                         71716 non-null  bool   \n",
      " 18  Linux                       71716 non-null  bool   \n",
      " 19  Metacritic score            71716 non-null  int64  \n",
      " 20  Metacritic url              3778 non-null   object \n",
      " 21  User score                  71716 non-null  int64  \n",
      " 22  Positive                    71716 non-null  int64  \n",
      " 23  Negative                    71716 non-null  int64  \n",
      " 24  Score rank                  42 non-null     float64\n",
      " 25  Achievements                71716 non-null  int64  \n",
      " 26  Recommendations             71716 non-null  int64  \n",
      " 27  Notes                       10442 non-null  object \n",
      " 28  Average playtime forever    71716 non-null  int64  \n",
      " 29  Average playtime two weeks  71716 non-null  int64  \n",
      " 30  Median playtime forever     71716 non-null  int64  \n",
      " 31  Median playtime two weeks   71716 non-null  int64  \n",
      " 32  Developers                  69255 non-null  object \n",
      " 33  Publishers                  68996 non-null  object \n",
      " 34  Categories                  68309 non-null  object \n",
      " 35  Genres                      69277 non-null  object \n",
      " 36  Tags                        57702 non-null  object \n",
      " 37  Screenshots                 70387 non-null  object \n",
      " 38  Movies                      66668 non-null  object \n",
      "dtypes: bool(3), float64(2), int64(14), object(20)\n",
      "memory usage: 19.9+ MB\n"
     ]
    }
   ],
   "source": [
    "df = pd.read_csv(\"~/downloads/games.csv\")\n",
    "df.info()"
   ]
  },
  {
   "cell_type": "code",
   "execution_count": 3,
   "id": "244bf538-c48a-49fe-96d6-278c0e06a2a8",
   "metadata": {},
   "outputs": [
    {
     "name": "stdout",
     "output_type": "stream",
     "text": [
      "\n",
      "Missing Values:\n",
      " AppID                             0\n",
      "Name                              1\n",
      "Release date                      0\n",
      "Estimated owners                  0\n",
      "Peak CCU                          0\n",
      "Required age                      0\n",
      "Price                             0\n",
      "DLC count                         0\n",
      "About the game                 2436\n",
      "Supported languages               0\n",
      "Full audio languages              0\n",
      "Reviews                       62549\n",
      "Header image                      0\n",
      "Website                       36643\n",
      "Support url                   35466\n",
      "Support email                 11120\n",
      "Windows                           0\n",
      "Mac                               0\n",
      "Linux                             0\n",
      "Metacritic score                  0\n",
      "Metacritic url                67938\n",
      "User score                        0\n",
      "Positive                          0\n",
      "Negative                          0\n",
      "Score rank                    71674\n",
      "Achievements                      0\n",
      "Recommendations                   0\n",
      "Notes                         61274\n",
      "Average playtime forever          0\n",
      "Average playtime two weeks        0\n",
      "Median playtime forever           0\n",
      "Median playtime two weeks         0\n",
      "Developers                     2461\n",
      "Publishers                     2720\n",
      "Categories                     3407\n",
      "Genres                         2439\n",
      "Tags                          14014\n",
      "Screenshots                    1329\n",
      "Movies                         5048\n",
      "dtype: int64\n"
     ]
    }
   ],
   "source": [
    "# Check for missing values\n",
    "missing_values = df.isnull().sum()\n",
    "print(\"\\nMissing Values:\\n\", missing_values)\n",
    "\n",
    "# Drop columns with excessive missing values\n",
    "df = df.drop(columns=['Metacritic url', 'Score rank'])\n",
    "\n",
    "# Drop rows where 'Name' is missing (critical column)\n",
    "df = df.dropna(subset=['Name'])\n",
    "\n",
    "# Fill missing values in less critical columns with default values\n",
    "df['Genres'] = df['Genres'].fillna('Unknown')\n",
    "df['Developers'] = df['Developers'].fillna('Unknown')\n",
    "df['Publishers'] = df['Publishers'].fillna('Unknown')\n",
    "df['Reviews'] = df['Reviews'].fillna('No Reviews')\n",
    "\n"
   ]
  },
  {
   "cell_type": "code",
   "execution_count": 4,
   "id": "69e0d939-a0a7-4f50-baca-a25d95889547",
   "metadata": {},
   "outputs": [],
   "source": [
    "# Convert 'Release date' to datetime\n",
    "df['Release date'] = pd.to_datetime(df['Release date'], errors='coerce')\n",
    "\n",
    "# Convert boolean columns to integers for consistency\n",
    "df['Windows'] = df['Windows'].astype(int)\n",
    "df['Mac'] = df['Mac'].astype(int)\n",
    "df['Linux'] = df['Linux'].astype(int)\n"
   ]
  },
  {
   "cell_type": "code",
   "execution_count": 5,
   "id": "701e476d-fb4a-4967-abb3-fd59beb04f6e",
   "metadata": {},
   "outputs": [],
   "source": [
    "# Add a 'Release Year' column\n",
    "df['Release Year'] = df['Release date'].dt.year\n"
   ]
  },
  {
   "cell_type": "code",
   "execution_count": 6,
   "id": "14c1785d-ddc3-4e26-86ca-cc13c587ccf2",
   "metadata": {},
   "outputs": [],
   "source": [
    "# Combine Positive and Negative reviews\n",
    "df['Total Reviews'] = df['Positive'] + df['Negative']\n"
   ]
  },
  {
   "cell_type": "code",
   "execution_count": 7,
   "id": "2c6bda0d-4a84-4be7-858a-e800cd12244d",
   "metadata": {},
   "outputs": [
    {
     "name": "stdout",
     "output_type": "stream",
     "text": [
      "\n",
      "Number of Action Games: 28870\n"
     ]
    }
   ],
   "source": [
    "# Filter games with a specific genre\n",
    "action_games = df[df['Genres'].str.contains('Action', na=False)]\n",
    "print(f\"\\nNumber of Action Games: {len(action_games)}\")\n"
   ]
  },
  {
   "cell_type": "code",
   "execution_count": 8,
   "id": "16bb3866-82bf-4ac3-835b-b7e4365464d3",
   "metadata": {},
   "outputs": [
    {
     "name": "stdout",
     "output_type": "stream",
     "text": [
      "\n",
      "Number of Free-to-Play Games: 12409\n"
     ]
    }
   ],
   "source": [
    "# Subset of free-to-play games\n",
    "free_games = df[df['Price'] == 0]\n",
    "print(f\"\\nNumber of Free-to-Play Games: {len(free_games)}\")\n"
   ]
  },
  {
   "cell_type": "code",
   "execution_count": 14,
   "id": "897887ac-68a0-4506-8a1f-4c170df6a103",
   "metadata": {},
   "outputs": [
    {
     "name": "stdout",
     "output_type": "stream",
     "text": [
      "Processed data saved to ~/downloads/steam_data.csv\n"
     ]
    }
   ],
   "source": [
    "# Save to a new CSV file\n",
    "\n",
    "processed_file_path = \"~/downloads/steam_data.csv\"\n",
    "df.to_csv(processed_file_path, index=False)\n",
    "print(f\"Processed data saved to {processed_file_path}\")\n",
    "# Check for NaN values in the dataset\n"
   ]
  },
  {
   "cell_type": "code",
   "execution_count": 13,
   "id": "ee233c76-fb93-415e-af05-de915d06d0f4",
   "metadata": {},
   "outputs": [
    {
     "name": "stdout",
     "output_type": "stream",
     "text": [
      "Missing Values After Cleaning:\n",
      " AppID                         0\n",
      "Name                          0\n",
      "Release date                  0\n",
      "Estimated owners              0\n",
      "Peak CCU                      0\n",
      "Required age                  0\n",
      "Price                         0\n",
      "DLC count                     0\n",
      "About the game                0\n",
      "Supported languages           0\n",
      "Full audio languages          0\n",
      "Reviews                       0\n",
      "Header image                  0\n",
      "Website                       0\n",
      "Support url                   0\n",
      "Support email                 0\n",
      "Windows                       0\n",
      "Mac                           0\n",
      "Linux                         0\n",
      "Metacritic score              0\n",
      "User score                    0\n",
      "Positive                      0\n",
      "Negative                      0\n",
      "Achievements                  0\n",
      "Recommendations               0\n",
      "Notes                         0\n",
      "Average playtime forever      0\n",
      "Average playtime two weeks    0\n",
      "Median playtime forever       0\n",
      "Median playtime two weeks     0\n",
      "Developers                    0\n",
      "Publishers                    0\n",
      "Categories                    0\n",
      "Genres                        0\n",
      "Tags                          0\n",
      "Screenshots                   0\n",
      "Movies                        0\n",
      "Release Year                  0\n",
      "Total Reviews                 0\n",
      "dtype: int64\n"
     ]
    }
   ],
   "source": [
    "# Drop rows with any NaN values\n",
    "# Drop rows with any NaN values\n",
    "df = df.dropna()\n",
    "\n",
    "# Alternatively, drop rows for specific columns\n",
    "df = df.dropna(subset=['Price', 'Genres'])\n",
    "\n",
    "print(\"Missing Values After Cleaning:\\n\", df.isnull().sum())\n",
    "\n"
   ]
  },
  {
   "cell_type": "code",
   "execution_count": 12,
   "id": "a2122782-8c79-4ec3-aad1-0b0af10ee306",
   "metadata": {},
   "outputs": [
    {
     "name": "stdout",
     "output_type": "stream",
     "text": [
      "Data uploaded successfully to Firebase!\n"
     ]
    }
   ],
   "source": [
    "import firebase_admin\n",
    "from firebase_admin import credentials, db\n",
    "import pandas as pd\n",
    "\n",
    "# Step 1: Load the Processed Dataset\n",
    "file_path = \"~/downloads/processed_steam_data.csv\"  # Replace with your processed dataset path\n",
    "df = pd.read_csv(file_path)\n",
    "\n",
    "# Step 2: Initialize Firebase\n",
    "# Replace with the path to your Firebase service account JSON file\n",
    "service_account_path = \"~/Downloads/gaming.json\" \n",
    "database_url = \"https://gaminginsight-169d0-default-rtdb.europe-west1.firebasedatabase.app/\"\n",
    "\n",
    "# Initialize Firebase Admin SDK\n",
    "cred = credentials.Certificate(service_account_path)\n",
    "firebase_admin.initialize_app(cred, {'databaseURL': database_url})\n",
    "\n",
    "# Step 3: Upload Data to Firebase\n",
    "# Convert DataFrame to a list of dictionaries\n",
    "data = df.to_dict(orient='records')\n",
    "\n",
    "# Define a reference in Firebase Realtime Database\n",
    "ref = db.reference('steam_games')  # Replace 'steam_games' with your desired database path\n",
    "\n",
    "# Upload the data\n",
    "ref.set(data)\n",
    "print(\"Data uploaded successfully to Firebase!\")\n"
   ]
  },
  {
   "cell_type": "code",
   "execution_count": 16,
   "id": "5cbab061-3a81-457c-9805-ebe6a2e39448",
   "metadata": {},
   "outputs": [],
   "source": [
    "# Import necessary libraries\n",
    "import pandas as pd\n",
    "import numpy as np\n",
    "from sklearn.model_selection import train_test_split\n",
    "from sklearn.preprocessing import StandardScaler\n",
    "from sklearn.feature_extraction.text import TfidfVectorizer\n",
    "from sklearn.cluster import KMeans\n",
    "from sklearn.ensemble import RandomForestClassifier, RandomForestRegressor\n",
    "from sklearn.linear_model import LinearRegression\n",
    "from sklearn.metrics import accuracy_score, mean_squared_error\n",
    "from sklearn.pipeline import Pipeline\n",
    "from sklearn.decomposition import PCA\n",
    "from sklearn.feature_selection import SelectKBest, f_regression\n",
    "import matplotlib.pyplot as plt\n",
    "\n",
    "# Load the dataset\n",
    "# Ensure the dataset is cleaned prior to ML tasks (e.g., NaN handling, column renaming).\n",
    "df = pd.read_csv(\"~/downloads/processed_steam_data.csv\")\n",
    "\n",
    "# Replace NaN values to ensure no issues during modeling\n",
    "df.fillna({\n",
    "    'Price': 0,\n",
    "    'Genres': 'Unknown',\n",
    "    'Positive': 0,\n",
    "    'Negative': 0,\n",
    "    'Average playtime forever': 0\n",
    "}, inplace=True)\n",
    "\n",
    "# Feature engineering\n",
    "df['Total Reviews'] = df['Positive'] + df['Negative']  # Total review count\n",
    "df['Success'] = (df['Peak CCU'] > 5000).astype(int)  # Define a game as successful if Peak CCU > 5000\n",
    "df['Release Year'] = pd.to_datetime(df['Release date'], errors='coerce').dt.year\n"
   ]
  },
  {
   "cell_type": "code",
   "execution_count": 17,
   "id": "7f5a92e5-4363-4d2f-a3b3-21e484063fd1",
   "metadata": {},
   "outputs": [
    {
     "name": "stdout",
     "output_type": "stream",
     "text": [
      "Game not found!\n"
     ]
    }
   ],
   "source": [
    "from sklearn.metrics.pairwise import cosine_similarity\n",
    "\n",
    "# TF-IDF Vectorization for 'Genres' and 'Tags' columns\n",
    "vectorizer = TfidfVectorizer(stop_words='english')\n",
    "\n",
    "# Combine genres and tags for similarity\n",
    "df['Combined Features'] = df['Genres'] + ' ' + df['Tags']\n",
    "tfidf_matrix = vectorizer.fit_transform(df['Combined Features'].fillna(''))\n",
    "\n",
    "# Compute cosine similarity\n",
    "cosine_sim = cosine_similarity(tfidf_matrix, tfidf_matrix)\n",
    "\n",
    "# Recommendation function\n",
    "def recommend_games(game_name, top_n=5):\n",
    "    try:\n",
    "        idx = df[df['Name'].str.contains(game_name, case=False, na=False)].index[0]\n",
    "        sim_scores = list(enumerate(cosine_sim[idx]))\n",
    "        sim_scores = sorted(sim_scores, key=lambda x: x[1], reverse=True)\n",
    "        sim_indices = [i[0] for i in sim_scores[1:top_n+1]]\n",
    "        return df.iloc[sim_indices][['Name', 'Genres', 'Price']]\n",
    "    except IndexError:\n",
    "        return \"Game not found!\"\n",
    "\n",
    "# Example recommendation\n",
    "print(recommend_games(\"Game 1\"))\n"
   ]
  },
  {
   "cell_type": "code",
   "execution_count": 18,
   "id": "15ec4182-45c9-496c-8f11-3d3467ad1e46",
   "metadata": {},
   "outputs": [
    {
     "name": "stdout",
     "output_type": "stream",
     "text": [
      "Success Prediction Accuracy: 99.13%\n"
     ]
    }
   ],
   "source": [
    "# Define features and target\n",
    "X = df[['Price', 'Total Reviews', 'Achievements', 'Average playtime forever']]\n",
    "y = df['Success']\n",
    "\n",
    "# Train-test split\n",
    "X_train, X_test, y_train, y_test = train_test_split(X, y, test_size=0.2, random_state=42)\n",
    "\n",
    "# Model initialization and training\n",
    "clf = RandomForestClassifier(n_estimators=100, random_state=42)\n",
    "clf.fit(X_train, y_train)\n",
    "\n",
    "# Predictions\n",
    "y_pred = clf.predict(X_test)\n",
    "accuracy = accuracy_score(y_test, y_pred)\n",
    "print(f\"Success Prediction Accuracy: {accuracy * 100:.2f}%\")\n"
   ]
  },
  {
   "cell_type": "code",
   "execution_count": 20,
   "id": "b904e43d-1449-4964-bdf1-98536fe8cd87",
   "metadata": {},
   "outputs": [
    {
     "name": "stdout",
     "output_type": "stream",
     "text": [
      "Sentiment Analysis Accuracy: 85.55%\n"
     ]
    }
   ],
   "source": [
    "from sklearn.naive_bayes import MultinomialNB\n",
    "\n",
    "# Dummy sentiment labels (replace with real labeled data if available)\n",
    "df['Sentiment'] = np.where(df['Positive'] > df['Negative'], 1, 0)\n",
    "\n",
    "# Vectorize text data\n",
    "tfidf_reviews = vectorizer.fit_transform(df['Reviews'].fillna(''))\n",
    "\n",
    "# Split data\n",
    "X_train, X_test, y_train, y_test = train_test_split(tfidf_reviews, df['Sentiment'], test_size=0.2, random_state=42)\n",
    "\n",
    "# Train Naive Bayes classifier\n",
    "clf = MultinomialNB()\n",
    "clf.fit(X_train, y_train)\n",
    "\n",
    "# Predictions and accuracy\n",
    "accuracy = clf.score(X_test, y_test)\n",
    "print(f\"Sentiment Analysis Accuracy: {accuracy * 100:.2f}%\")\n"
   ]
  },
  {
   "cell_type": "code",
   "execution_count": 21,
   "id": "d00ccf74-d533-46d3-bab8-fdbc98bebc1b",
   "metadata": {},
   "outputs": [
    {
     "data": {
      "image/png": "[encoded data removed]",
      "text/plain": [
       "<Figure size 640x480 with 1 Axes>"
      ]
     },
     "metadata": {},
     "output_type": "display_data"
    }
   ],
   "source": [
    "# Feature scaling\n",
    "scaler = StandardScaler()\n",
    "scaled_features = scaler.fit_transform(df[['Price', 'Total Reviews', 'Achievements']])\n",
    "\n",
    "# K-Means Clustering\n",
    "kmeans = KMeans(n_clusters=5, random_state=42)\n",
    "df['Cluster'] = kmeans.fit_predict(scaled_features)\n",
    "\n",
    "# Visualize clusters\n",
    "plt.scatter(scaled_features[:, 0], scaled_features[:, 1], c=df['Cluster'], cmap='viridis')\n",
    "plt.title(\"Game Clusters\")\n",
    "plt.xlabel(\"Scaled Feature 1\")\n",
    "plt.ylabel(\"Scaled Feature 2\")\n",
    "plt.show()\n"
   ]
  },
  {
   "cell_type": "code",
   "execution_count": null,
   "id": "bc4c77e7-d204-4128-ac4e-89b4b4bd631c",
   "metadata": {},
   "outputs": [],
   "source": [
    "import schedule\n",
    "import time\n",
    "\n",
    "def fetch_data():\n",
    "    print(\"Fetching latest game data...\")\n",
    "\n",
    "# Schedule the task\n",
    "schedule.every().day.at(\"00:00\").do(fetch_data)\n",
    "\n",
    "while True:\n",
    "    schedule.run_pending()\n",
    "    time.sleep(1)\n"
   ]
  },
  {
   "cell_type": "code",
   "execution_count": 35,
   "id": "11bb146d-c1e6-4002-bf77-e4b837664db2",
   "metadata": {},
   "outputs": [
    {
     "data": {
      "text/plain": [
       "DeltaGenerator()"
      ]
     },
     "execution_count": 35,
     "metadata": {},
     "output_type": "execute_result"
    }
   ],
   "source": [
    "import streamlit as st\n",
    "import pandas as pd\n",
    "import matplotlib.pyplot as plt\n",
    "\n",
    "# Load data\n",
    "df = pd.read_csv(\"~/downloads/processed_steam_data.csv\")\n",
    "\n",
    "genre_forecast = pd.DataFrame({\n",
    "    'Year': [2020, 2021, 2022, 2023, 2024],\n",
    "    'Popularity': [100, 200, 300, 400, 500]  # Example data\n",
    "})\n",
    "genre_forecast.to_csv('genre_forecast.csv', index=False)\n",
    "\n",
    "\n",
    "# Dashboard for recommendations\n",
    "st.title(\"Steam Game Recommendations\")\n",
    "game_name = st.text_input(\"Enter a game name:\")\n",
    "if game_name:\n",
    "    recommendations = recommend_games(game_name, top_n=5)  # Use your recommendation function\n",
    "    st.write(\"Recommended Games:\")\n",
    "    st.dataframe(recommendations)\n",
    "\n",
    "# Visualize genre popularity\n",
    "st.title(\"Genre Popularity Forecast\")\n",
    "genre_data = pd.read_csv(\"genre_forecast.csv\")  # Example forecast data\n",
    "st.line_chart(genre_data.set_index('Year'))\n",
    "\n"
   ]
  }
 ],
 "metadata": {
  "kernelspec": {
   "display_name": "Python 3 (ipykernel)",
   "language": "python",
   "name": "python3"
  },
  "language_info": {
   "codemirror_mode": {
    "name": "ipython",
    "version": 3
   },
   "file_extension": ".py",
   "mimetype": "text/x-python",
   "name": "python",
   "nbconvert_exporter": "python",
   "pygments_lexer": "ipython3",
   "version": "3.12.7"
  }
 },
 "nbformat": 4,
 "nbformat_minor": 5
}
